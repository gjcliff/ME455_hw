{
  "cells": [
    {
      "cell_type": "code",
      "metadata": {
        "jukit_cell_id": "CCLthl0oID"
      },
      "source": [],
      "outputs": [],
      "execution_count": null
    },
    {
      "cell_type": "code",
      "metadata": {
        "jukit_cell_id": "erXUkqlZ4y"
      },
      "source": [
        "import numpy as np\n",
        "import matplotlib.pyplot as plt\n",
        "import itertools\n",
        "\n",
        "from PIL import Image\n",
        "from io import BytesIO\n",
        "import requests"
      ],
      "outputs": [],
      "execution_count": null
    },
    {
      "cell_type": "markdown",
      "metadata": {
        "jukit_cell_id": "pdEazmmeZi"
      },
      "source": [
        "Problem 1"
      ]
    },
    {
      "cell_type": "code",
      "metadata": {
        "jukit_cell_id": "eHLjSnlryM"
      },
      "source": [
        "# URL of the image\n",
        "image_url = 'https://raw.githubusercontent.com/MurpheyLab/ME455_public/main/figs/lincoln.jpg'\n",
        "\n",
        "# Fetch the image data from the URL\n",
        "response = requests.get(image_url)\n",
        "\n",
        "# Create a BytesIO object from the response data\n",
        "image_data = BytesIO(response.content)\n",
        "\n",
        "# Open the image using PIL\n",
        "image = Image.open(image_data)\n",
        "\n",
        "# Convert the image to a NumPy array\n",
        "image_array = np.array(image)\n",
        "image_array = np.flip(image_array, axis=0)\n",
        "\n",
        "print('image_array.shape: ', image_array.shape)\n",
        "\n",
        "plt.imshow(image_array, origin='lower', cmap='gray') # note that for \"imshow\" the origin of the coordinate is at top left instead of bottom left\n",
        "plt.show()\n",
        "plt.close()"
      ],
      "outputs": [],
      "execution_count": null
    },
    {
      "cell_type": "code",
      "metadata": {
        "jukit_cell_id": "8TEufM7Usf"
      },
      "source": [
        "xgrids = np.linspace(0.0, 1.0, image_array.shape[0])  # the x coordinates of image pixels in the new space\n",
        "dx = xgrids[1] - xgrids[0]\n",
        "ygrids = np.linspace(0.0, 1.0, image_array.shape[1])  # the y coordinates of image pixels in the new space\n",
        "dy = ygrids[1] - ygrids[0]\n",
        "\n",
        "# we now invert dark and light pixel density and normalize the density values so it is a valid probability distribution\n",
        "density_array = 255.0 - image_array  # we want higher density at darker regions\n",
        "density_array /= np.sum(density_array) * dx * dy  # so the integral is 1\n",
        "\n",
        "def image_density(s):\n",
        "    \"\"\" Continuous density function based on the image\n",
        "    Inputs:\n",
        "        s - a numpy array containing the (x,y) coordinate within the 1m-by-1m space\n",
        "    Return:\n",
        "        val - the density value at s\n",
        "    \"\"\"\n",
        "    s_x, s_y = s\n",
        "\n",
        "    # Find the pixel closest to s in the 1-by-1 space\n",
        "    # Note that in image the first pixel coordinate correspond to the y-axis in the 1-by-1 space\n",
        "    pixel_idx_y = np.argmin(np.abs(xgrids - s_x))\n",
        "    pixel_idx_x = np.argmin(np.abs(ygrids - s_y))\n",
        "\n",
        "   # the density at s is the same as the closest pixel density\n",
        "    val = density_array[pixel_idx_x, pixel_idx_y]\n",
        "\n",
        "    return val"
      ],
      "outputs": [],
      "execution_count": null
    },
    {
      "cell_type": "markdown",
      "metadata": {
        "jukit_cell_id": "GJLTw6Aw4A"
      },
      "source": [
        "Proposal distribution: Uniform"
      ]
    },
    {
      "cell_type": "code",
      "metadata": {
        "jukit_cell_id": "i56dJ78999"
      },
      "source": [
        "num_samples = 10000\n",
        "gsamples = np.random.uniform(low=0.0, high=1.0, size=(num_samples, 2))\n",
        "scalars = np.random.uniform(low=0.0, high=1.0, size=num_samples)\n",
        "samples = np.zeros((num_samples,2))\n",
        "weights = np.zeros((num_samples,))\n",
        "M = 1.0\n",
        "\n",
        "for i in range(num_samples):\n",
        "    if image_density(gsamples[i]) > M * scalars[i]:\n",
        "        samples[i] = gsamples[i]\n",
        "        weights[i] = image_density(gsamples[i])\n",
        "\n",
        "weights /= np.max(weights)\n",
        "\n",
        "fig, ax = plt.subplots(1, 1, figsize=(4,4), dpi=120, tight_layout=True)\n",
        "ax.set_aspect('equal')\n",
        "ax.set_xlim(0.0, 1.0)\n",
        "ax.set_ylim(0.0, 1.0)\n",
        "\n",
        "for sample,weight in zip(samples, weights):\n",
        "    ax.plot(sample[0], sample[1], linestyle='', marker='o', markersize=2, color='k', alpha=weight)\n",
        "\n",
        "plt.show()\n",
        "plt.close()"
      ],
      "outputs": [],
      "execution_count": null
    },
    {
      "cell_type": "markdown",
      "metadata": {
        "jukit_cell_id": "iQyjajUg0H"
      },
      "source": [
        "Proposal distribution: Gaussian"
      ]
    },
    {
      "cell_type": "code",
      "metadata": {
        "jukit_cell_id": "7TgzxgtEWH"
      },
      "source": [
        "num_samples = 10000\n",
        "gsamples = np.random.normal(loc=0.5, scale=0.2, size=(num_samples, 2))\n",
        "scalars = np.random.normal(loc=0.5, scale=0.1, size=num_samples)\n",
        "samples = np.zeros((num_samples,2))\n",
        "weights = np.zeros((num_samples,))\n",
        "M = 1.0\n",
        "\n",
        "for i in range(num_samples):\n",
        "    if image_density(gsamples[i]) > M * scalars[i]:\n",
        "        samples[i] = gsamples[i]\n",
        "        weights[i] = image_density(gsamples[i])\n",
        "\n",
        "weights /= np.max(weights)\n",
        "\n",
        "fig, ax = plt.subplots(1, 1, figsize=(4,4), dpi=120, tight_layout=True)\n",
        "ax.set_aspect('equal')\n",
        "ax.set_xlim(0.0, 1.0)\n",
        "ax.set_ylim(0.0, 1.0)\n",
        "\n",
        "for sample,weight in zip(samples, weights):\n",
        "    ax.plot(sample[0], sample[1], linestyle='', marker='o', markersize=2, color='k', alpha=weight)\n",
        "\n",
        "plt.show()\n",
        "plt.close()"
      ],
      "outputs": [],
      "execution_count": null
    },
    {
      "cell_type": "markdown",
      "metadata": {
        "jukit_cell_id": "NFEfULaatt"
      },
      "source": [
        "Problem 2"
      ]
    },
    {
      "cell_type": "code",
      "metadata": {
        "jukit_cell_id": "VNUMRztYA1"
      },
      "source": [
        "# Predefined list of colors\n",
        "colors = ['r', 'g', 'b', 'c', 'm', 'y', 'k']\n",
        "\n",
        "# Create a cycle iterator for colors\n",
        "color_cycle = itertools.cycle(colors)"
      ],
      "outputs": [],
      "execution_count": null
    },
    {
      "cell_type": "code",
      "metadata": {
        "jukit_cell_id": "CPoZQKMctx"
      },
      "source": [
        "def get_velocity(state, u):\n",
        "    return [np.cos(state[2]) * u[0], np.sin(state[2]) * u[0], u[1]]\n",
        "\n",
        "def get_measurement(state, sigma_measurement):\n",
        "    copy_state = state.copy()\n",
        "    return [copy_state[0] + np.random.normal(0, sigma_measurement),\n",
        "            copy_state[1] + np.random.normal(0, sigma_measurement),\n",
        "            copy_state[2] + np.random.normal(0, sigma_measurement)]\n",
        "\n",
        "def take_samples(state, sigma_measurement):\n",
        "    samples = []\n",
        "    for i in range(num_samples):\n",
        "        samples.append(get_measurement(state, sigma_measurement))\n",
        "    return samples\n",
        "\n",
        "def update_state(state, u, sigma_process):\n",
        "    new_state = state.copy()\n",
        "    new_state[0] += np.cos(state[2]) * u[0] * dt + np.random.normal(0, sigma_process)\n",
        "    new_state[1] += np.sin(state[2]) * u[0] * dt + np.random.normal(0, sigma_process)\n",
        "    new_state[2] += u[1] * dt + np.random.normal(0, sigma_process)\n",
        "    return new_state"
      ],
      "outputs": [],
      "execution_count": null
    },
    {
      "cell_type": "code",
      "metadata": {
        "jukit_cell_id": "cux8jzxeJi"
      },
      "source": [
        "# start with taking a bunch of measurements from a gaussian distribution with mean\n",
        "# 0 and sigma_measurement.\n",
        "u = [1, -0.5]\n",
        "state = [0, 0, np.pi/2] # x, y, theta\n",
        "total_time = 2 * np.pi\n",
        "dt = 0.1\n",
        "\n",
        "num_samples = 100\n",
        "sigma_process = 0.02\n",
        "sigma_measurement = 0.2\n",
        "time_steps = int(total_time / dt)\n",
        "\n",
        "estimated_state = state\n",
        "\n",
        "positions = [state[:2]]\n",
        "estimate_positions = [state[:2]]\n",
        "for t in range(time_steps):\n",
        "    weights = np.ones((num_samples,)) / num_samples\n",
        "    samples = take_samples(state, sigma_measurement)\n",
        "    predictions = []\n",
        "    for sample in samples:\n",
        "        predictions.append(update_state(sample, u, sigma_process))\n",
        "    # once we have our belief, we execute u\n",
        "    state = update_state(state, u, sigma_process)\n",
        "    positions.append(state)\n",
        "    # now we receive a measurement z_{t+1}\n",
        "    z = get_measurement(state, sigma_measurement)\n",
        "    weights = 1/np.sqrt(2*np.pi*sigma_measurement**2) * np.exp(-0.5 * np.sum((np.array(z) - np.array(predictions))**2, axis=1) / sigma_measurement**2)\n",
        "    normalized_weights = weights / np.sum(weights)\n",
        "    estimated_state = np.sum(np.array(predictions) * normalized_weights[:, np.newaxis], axis=0)\n",
        "    estimate_positions.append(estimated_state[:2])\n",
        "    # resample\n",
        "    resample_indices = np.random.choice(np.arange(num_samples), num_samples, p=normalized_weights)\n",
        "    samples = np.array(samples)\n",
        "    samples = samples[resample_indices]\n",
        "    plt.plot([position[0] for position in positions], [position[1] for position in positions], linestyle='-', marker='o', markersize=2, color='k')\n",
        "    plt.plot([position[0] for position in estimate_positions], [position[1] for position in estimate_positions], linestyle='-', marker='o', markersize=2, color='r')\n",
        "    if t % 10 == 0:\n",
        "        for sample, weight in zip(samples, normalized_weights):\n",
        "            plt.plot(sample[0], sample[1], linestyle='', marker='o', markersize=2, color='b', alpha=weight)  # Set alpha based on weight\n",
        "        plt.xlim(-2, 5)\n",
        "        plt.ylim(-2.5, 2.5)\n",
        "    plt.draw()\n",
        "    plt.pause(0.1)"
      ],
      "outputs": [],
      "execution_count": null
    },
    {
      "cell_type": "markdown",
      "metadata": {
        "jukit_cell_id": "6HnUL3zXvI"
      },
      "source": [
        "Problem 3"
      ]
    },
    {
      "cell_type": "code",
      "metadata": {
        "jukit_cell_id": "Hu1ixrWjxA"
      },
      "source": [
        "def generate_samples(w1, w2, w3, mew1, mew2, mew3, sigma1, sigma2, sigma3, num_samples):\n",
        "    samples = []\n",
        "    for i in num_samples:\n",
        "        samples.append(np.random.normal(mew1, sigma1, size=2) * w1\n",
        "                       + np.random.normal(mew2, sigma2, size=2) * w2\n",
        "                       + np.random.normal(mew3, sigma3, size=2) * w3)\n",
        "    return samples"
      ],
      "outputs": [],
      "execution_count": null
    },
    {
      "cell_type": "code",
      "metadata": {
        "jukit_cell_id": "K8teC0q2GS"
      },
      "source": [
        "w1 = 0.5\n",
        "w2 = 0.2\n",
        "w3 = 0.3\n",
        "\n",
        "mew1 = np.array([0.35, 0.38])\n",
        "mew2 = np.array([0.68, 0.25])\n",
        "mew3 = np.array([0.56, 0.64])\n",
        "\n",
        "sigma1 = np.array([[0.01, 0.004],[0.004, 0.01]])\n",
        "sigma2 = np.array([[0.005, -0.003],[-0.003, 0.005]])\n",
        "sigma3 = np.array([[0.008, 0.0], [0.0, 0.004]])\n",
        "\n",
        "num_samples = 100\n",
        "\n",
        "samples = generate_samples(w1, w2, w3, mew1, mew2, mew3, sigma1, sigma2, sigma3, num_samples)"
      ],
      "outputs": [],
      "execution_count": null
    }
  ],
  "metadata": {
    "anaconda-cloud": {},
    "kernelspec": {
      "display_name": "python",
      "language": "python",
      "name": "python3"
    }
  },
  "nbformat": 4,
  "nbformat_minor": 4
}