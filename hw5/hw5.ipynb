{
  "cells": [
    {
      "cell_type": "code",
      "metadata": {
        "jukit_cell_id": "IwmgquwXVi"
      },
      "source": [
        "import numpy as np\n",
        "import matplotlib.pyplot as plt\n",
        "from scipy.integrate import solve_bvp\n",
        "from scipy.stats import multivariate_normal as mvn\n",
        "import pdb"
      ],
      "outputs": [],
      "execution_count": null
    },
    {
      "cell_type": "markdown",
      "metadata": {
        "jukit_cell_id": "3tT4JeanSm"
      },
      "source": [
        "Homework 5"
      ]
    },
    {
      "cell_type": "markdown",
      "metadata": {
        "jukit_cell_id": "uRDY4X4WDS"
      },
      "source": [
        "Problem 1"
      ]
    },
    {
      "cell_type": "markdown",
      "metadata": {
        "jukit_cell_id": "dN3OVRtBbt"
      },
      "source": [
        "Define the gaussian mixture model"
      ]
    },
    {
      "cell_type": "code",
      "metadata": {
        "jukit_cell_id": "jNeRg9gWL2"
      },
      "source": [
        "w1, w2, w3 = 0.5, 0.2, 0.3\n",
        "mew1, mew2, mew3  = np.array((0.35, 0.38)), np.array((0.68, 0.25)), np.array((0.56, 0.64))\n",
        "sigma1 = np.array(((0.01, 0.004),(0.004, 0.01)))\n",
        "sigma2 = np.array(((0.005, -0.003), (-0.003, 0.005)))\n",
        "sigma3 = np.array(((0.008, 0.0), (0.0, 0.004)))\n",
        "\n",
        "def pdf(x):\n",
        "    return w1 * mvn.pdf(x, mew1, sigma1) + \\\n",
        "           w2 * mvn.pdf(x, mew2, sigma2) + \\\n",
        "           w3 * mvn.pdf(x, mew3, sigma3)"
      ],
      "outputs": [],
      "execution_count": null
    },
    {
      "cell_type": "markdown",
      "metadata": {
        "jukit_cell_id": "CLF337ZSew"
      },
      "source": [
        "Define Ergodic parameters"
      ]
    },
    {
      "cell_type": "code",
      "metadata": {
        "jukit_cell_id": "HUfOhMaWIM"
      },
      "source": [
        "### We are going to use 10 coefficients per dimension --- so 100 index vectors in total\n",
        "\n",
        "num_k_per_dim = 10\n",
        "ks_dim1, ks_dim2 = np.meshgrid(\n",
        "    np.arange(num_k_per_dim), np.arange(num_k_per_dim)\n",
        ")\n",
        "ks = np.array([ks_dim1.ravel(), ks_dim2.ravel()]).T  # this is the set of all index vectors\n",
        "print('First 5 index vectors: ')\n",
        "print(ks[:5, :])\n",
        "\n",
        "# define a 1-by-1 2D search space\n",
        "L_list = np.array([1.0, 1.0])  # boundaries for each dimension\n",
        "\n",
        "# Discretize the search space into 100-by-100 mesh grids\n",
        "grids_x, grids_y = np.meshgrid(\n",
        "    np.linspace(0, L_list[0], 100),\n",
        "    np.linspace(0, L_list[1], 100)\n",
        ")\n",
        "\n",
        "grids = np.array([grids_x.ravel(), grids_y.ravel()]).T\n",
        "pdf_gt = pdf(grids)  # ground truth density function\n",
        "dx = 1.0 / 99\n",
        "dy = 1.0 / 99  # the resolution of the grids"
      ],
      "outputs": [],
      "execution_count": null
    },
    {
      "cell_type": "markdown",
      "metadata": {
        "jukit_cell_id": "7oTcm75DTY"
      },
      "source": [
        "Define iLQR Parameters"
      ]
    },
    {
      "cell_type": "code",
      "metadata": {
        "jukit_cell_id": "FBcyeniF8x"
      },
      "source": [
        "q = 0.03\n",
        "dt = 0.1\n",
        "tsteps = 100\n",
        "T = tsteps * dt\n",
        "init_u_traj = np.tile(np.array([1.0, -0.5]), reps=(tsteps,1))\n",
        "\n",
        "Q_x = np.diag([0.1, 0.1])\n",
        "R_u = np.diag([0.001, 0.001])\n",
        "P1 = np.diag([20.0, 20.0])\n",
        "\n",
        "# Q_z = np.diag([0.1, 0.1])\n",
        "# R_v = np.diag([0.1, 0.1])\n",
        "Q_z = Q_x\n",
        "R_v = R_u"
      ],
      "outputs": [],
      "execution_count": null
    },
    {
      "cell_type": "markdown",
      "metadata": {
        "jukit_cell_id": "ykzjSeDrA9"
      },
      "source": [
        "Define iLQR, Dynamics, and other helper functions"
      ]
    },
    {
      "cell_type": "code",
      "metadata": {
        "jukit_cell_id": "GBajMC2FFA"
      },
      "source": [
        "def dyn(xt, ut):\n",
        "    xdot = ut\n",
        "    return xdot\n",
        "\n",
        "def step(xt, ut):\n",
        "    k1 = dt * dyn(xt, ut)\n",
        "    k2 = dt * dyn(xt + 0.5 * k1, ut)\n",
        "    k3 = dt * dyn(xt + 0.5 * k2, ut)\n",
        "    k4 = dt * dyn(xt + k3, ut)\n",
        "    xt_new = xt + (1 / 6) * (k1 + 2.0 * k2 + 2.0 * k3 + k4)\n",
        "    return xt_new\n",
        "\n",
        "def loss(ergodic_metric, u_traj):\n",
        "    ut_sum = 0\n",
        "    for ut in u_traj:\n",
        "        ut_sum += ut.T @ R_u @ ut * dt\n",
        "    return q * ergodic_metric + 1/2 * ut_sum\n",
        "\n",
        "def traj_sim(x0, ulist):\n",
        "    tsteps = ulist.shape[0]\n",
        "    x_traj = np.zeros((tsteps, 2)) # should this stay with 3 columns?\n",
        "    xt = x0.copy()\n",
        "    for t in range(tsteps):\n",
        "        xt_new = step(xt, ulist[t])\n",
        "        x_traj[t] = xt_new.copy()\n",
        "        xt = xt_new.copy()\n",
        "    return x_traj\n",
        "\n",
        "# correct\n",
        "def get_A(t, xt, ut):\n",
        "    A = np.zeros((2,2))\n",
        "    return A\n",
        "\n",
        "#correct\n",
        "def get_B(t, xt, ut):\n",
        "    B = np.eye(2)\n",
        "\n",
        "    return B\n",
        "\n",
        "# really unsure about this\n",
        "def dldx(t, ck, phik, lambda_k, st):\n",
        "    dvec = 0\n",
        "    Dfk_vals = []\n",
        "    for i, k_vec in enumerate(ks):\n",
        "        Dfk = np.pi * k_vec / L_list * -np.sin(np.pi * k_vec / L_list * st)\n",
        "        hk = np.sqrt(np.sum(np.square(np.prod(np.cos(np.pi * k_vec / L_list * grids), axis=1))) * dx * dy)\n",
        "        Dfk /= hk\n",
        "        Dfk_vals.append(Dfk)\n",
        "\n",
        "    Dfk_vals = np.array(Dfk_vals)\n",
        "    for i in range(ks.shape[0]):\n",
        "        dvec += lambda_k[i] * (2/T * ck[i] - phik[i]) * Dfk_vals[i]\n",
        "    dvec *= q\n",
        "    return dvec\n",
        "\n",
        "\n",
        "def dldu(t, xt, ut):\n",
        "    dvec = ut @ R_u\n",
        "    return dvec\n",
        "    "
      ],
      "outputs": [],
      "execution_count": null
    },
    {
      "cell_type": "markdown",
      "metadata": {
        "jukit_cell_id": "Mi3cMCfCyX"
      },
      "source": [
        "Function for iLQR Iterations"
      ]
    },
    {
      "cell_type": "code",
      "metadata": {
        "jukit_cell_id": "Dpd710YJVF"
      },
      "source": [
        "def ilqr_iter(x0, u_traj, traj_coefficients, dist_coefficients, lambda_k, s_traj):\n",
        "    \"\"\"\n",
        "    :param x0: initial state of the system\n",
        "    :param u_traj: current estimation of the optimal control trajectory\n",
        "    :return: the descent direction for the control\n",
        "    \"\"\"\n",
        "    # forward simulate the state trajectory\n",
        "    x_traj = traj_sim(x0, u_traj)\n",
        "\n",
        "    # compute other variables needed for specifying the dynamics of z(t) and p(t)\n",
        "    A_list = np.zeros((tsteps, 2, 2))\n",
        "    B_list = np.zeros((tsteps, 2, 2))\n",
        "    a_list = np.zeros((tsteps, 2))\n",
        "    b_list = np.zeros((tsteps, 2))\n",
        "    for t_idx in range(tsteps):\n",
        "        t = t_idx * dt\n",
        "        A_list[t_idx] = get_A(t, x_traj[t_idx], u_traj[t_idx])\n",
        "        B_list[t_idx] = get_B(t, x_traj[t_idx], u_traj[t_idx])\n",
        "        a_list[t_idx] = dldx(t, traj_coefficients, dist_coefficients, lambda_k, s_traj[t_idx])\n",
        "        b_list[t_idx] = dldu(t, x_traj[t_idx], u_traj[t_idx])\n",
        "\n",
        "\n",
        "    xd_T = np.array([\n",
        "        2.0*(tsteps-1)*dt / np.pi, 0.0, np.pi/2.0\n",
        "    ])  # desired terminal state\n",
        "    p1 = 2 * P1 @ (x_traj[-1] - xd_T[-1]) # probably wrong!!\n",
        "\n",
        "    def zp_dyn(t, zp):\n",
        "        t_idx = (t/dt).astype(int)\n",
        "        At = A_list[t_idx]\n",
        "        Bt = B_list[t_idx]\n",
        "        at = a_list[t_idx]\n",
        "        bt = b_list[t_idx]\n",
        "\n",
        "        M_11 = At\n",
        "        M_12 = -Bt @ np.linalg.inv(R_v) @ Bt.T\n",
        "        M_21 = -Q_z\n",
        "        M_22 = -At.T\n",
        "        dyn_mat = np.block([\n",
        "            [M_11, M_12],\n",
        "            [M_21, M_22]\n",
        "        ])\n",
        "\n",
        "        m_1 = -Bt @ np.linalg.inv(R_v) @ bt\n",
        "        m_2 = -at\n",
        "        dyn_vec = np.hstack([m_1, m_2])\n",
        "\n",
        "        return dyn_mat @ zp + dyn_vec\n",
        "\n",
        "    # this will be the actual dynamics function you provide to solve_bvp,\n",
        "    # it takes in a list of time steps and corresponding [z(t), p(t)]\n",
        "    # and returns a list of [zdot(t), pdot(t)]\n",
        "    def zp_dyn_list(t_list, zp_list):\n",
        "        list_len = len(t_list)\n",
        "        zp_dot_list = np.zeros((4, list_len))\n",
        "        for _i in range(list_len):\n",
        "            zp_dot_list[:,_i] = zp_dyn(t_list[_i], zp_list[:,_i])\n",
        "        return zp_dot_list\n",
        "\n",
        "    # boundary condition (inputs are [z(0),p(0)] and [z(T),p(T)])\n",
        "    def zp_bc(zp_0, zp_T):\n",
        "        return np.array([zp_0[:2], zp_T[:2]]).flatten()\n",
        "\n",
        "    ### The solver will say it does not converge, but the returned result\n",
        "    ### is numerically accurate enough for our use\n",
        "    # zp_traj = np.zeros((tsteps,6))  # replace this by using solve_bvp\n",
        "    tlist = np.arange(tsteps) * dt\n",
        "    res = solve_bvp(\n",
        "        zp_dyn_list, zp_bc, tlist, np.zeros((4,tsteps)),\n",
        "        max_nodes=100\n",
        "    )\n",
        "    zp_traj = res.sol(tlist).T\n",
        "\n",
        "    z_traj = zp_traj[:,:2]\n",
        "    p_traj = zp_traj[:,2:]\n",
        "\n",
        "    v_traj = np.zeros((tsteps, 2))\n",
        "    for _i in range(tsteps):\n",
        "        At = A_list[_i]\n",
        "        Bt = B_list[_i]\n",
        "        at = a_list[_i]\n",
        "        bt = b_list[_i]\n",
        "\n",
        "        zt = z_traj[_i]\n",
        "        pt = p_traj[_i]\n",
        "\n",
        "        vt = -np.linalg.inv(R_v) @ (Bt.T @ pt + bt)\n",
        "        v_traj[_i] = vt\n",
        "\n",
        "    return v_traj"
      ],
      "outputs": [],
      "execution_count": null
    },
    {
      "cell_type": "markdown",
      "metadata": {
        "jukit_cell_id": "0wOwj2lSOF"
      },
      "source": [
        "Begin iLQR Iterations"
      ]
    },
    {
      "cell_type": "code",
      "metadata": {
        "jukit_cell_id": "uea1Kt4g4G"
      },
      "source": [
        "init_u_traj = np.tile(np.array([0.05, 0.02]), reps=(tsteps,1))\n",
        "\n",
        "x0 = np.ones(2) * 0.3\n",
        "u_traj = init_u_traj.copy()\n",
        "x_traj_initial = None\n",
        "loss_list = []\n",
        "time = np.arange(tsteps) * dt\n",
        "fig, ax = plt.subplots(3,1, figsize=(6, 10))\n",
        "plt.subplots_adjust(hspace=0.5)\n",
        "\n",
        "# Compute the coefficients of the spatial distribution, \\phi_k\n",
        "# I think these will be the same for all iterations\n",
        "dist_coefficients = np.zeros(ks.shape[0])  # number of coefficients matches the number of index vectors\n",
        "for i, k_vec in enumerate(ks):\n",
        "    # step 1: evaluate the fourier basis function over all the grid cells\n",
        "    fk_vals = np.prod(np.cos(np.pi * k_vec / L_list * grids), axis=1)  # we use NumPy's broadcasting feature to simplify computation\n",
        "    hk = np.sqrt(np.sum(np.square(fk_vals)) * dx * dy)  # normalization term\n",
        "    fk_vals /= hk\n",
        "\n",
        "    # step 2: evaluate the spatial probabilty density function over all the grid cells\n",
        "    pdf_vals = pdf(grids)  # this can computed ahead of the time\n",
        "\n",
        "    # step 3: approximate the integral through the Riemann sum for the coefficient\n",
        "    phik = np.sum(fk_vals * pdf_vals) * dx * dy\n",
        "    dist_coefficients[i] = phik\n",
        "\n",
        "# Start iLQR iterations here\n",
        "for iter in range(10):\n",
        "    s_traj = traj_sim(x0, u_traj)\n",
        "    if iter == 0:\n",
        "        s_traj_initial = s_traj.copy()\n",
        "    \n",
        "    # compute the coefficient of the trajectory\n",
        "    traj_coefficients = np.zeros(ks.shape[0])\n",
        "    for i, k_vec in enumerate(ks):\n",
        "        # step 1: evaluate the basis function over the trajectory\n",
        "        fk_vals = np.prod(np.cos(np.pi * k_vec / L_list * s_traj), axis=1)\n",
        "        hk = np.sqrt(np.sum(np.square(np.prod(np.cos(np.pi * k_vec / L_list * grids), axis=1))) * dx * dy)\n",
        "        fk_vals /= hk\n",
        "\n",
        "        # step 2: approximate the integral through the Riemann sum for the coefficient\n",
        "        ck = np.sum(fk_vals) * dt / (tsteps * dt)\n",
        "        traj_coefficients[i] = ck\n",
        "\n",
        "    # Finally, we compute the erogdic metric\n",
        "    lamk_list = np.power(1.0 + np.linalg.norm(ks, axis=1), -3/2.0)\n",
        "    erg_metric = np.sum(lamk_list * np.square(traj_coefficients - dist_coefficients))\n",
        "\n",
        "    # iLQR stuff now\n",
        "\n",
        "    # get descent direction\n",
        "    v_traj = ilqr_iter(x0, u_traj, traj_coefficients, dist_coefficients, lamk_list, s_traj)\n",
        "\n",
        "    # Armijo line search parameters\n",
        "    gamma = 1.0  # initial step size\n",
        "    alpha = 1e-04\n",
        "    beta = 0.5\n",
        "\n",
        "    total_loss = loss(erg_metric, u_traj)\n",
        "    total_other_loss = loss(erg_metric, u_traj + gamma * v_traj)\n",
        "    loss_list.append(total_loss)\n",
        "\n",
        "    # while total_other_loss > total_loss + alpha * gamma * np.sum(v_traj.T @ v_traj):\n",
        "    #     gamma = beta * gamma\n",
        "    #     total_other_loss = loss(erg_metric, u_traj + gamma * v_traj)\n",
        "    #     print(gamma)\n",
        "    gamma = 1.0\n",
        "\n",
        "    # update control for the next iteration\n",
        "    u_traj += gamma * v_traj\n",
        "\n",
        "    # plt.plot(s_traj_initial[:,0], s_traj_initial[:,1], linestyle='--', color='k', label=\"Initial Trajectory\")\n",
        "    # plt.plot(s_traj[:,0], s_traj[:,1], linestyle='-', color='k', label=\"Converged Trajectory\")\n",
        "    # plt.legend(loc='upper right')\n",
        "    # plt.xlim(0.0, L_list[0])\n",
        "    # plt.ylim(0.0, L_list[1])\n",
        "    # plt.title('Original PDF')\n",
        "    # plt.contourf(grids_x, grids_y, pdf_gt.reshape(grids_x.shape), cmap='Reds')\n",
        "    # plt.show()\n",
        "\n",
        "ax[0].plot(s_traj_initial[:,0], s_traj_initial[:,1], linestyle='--', color='k', label=\"Initial Trajectory\")\n",
        "ax[0].plot(s_traj[:,0], s_traj[:,1], linestyle='-', color='k', label=\"Converged Trajectory\")\n",
        "ax[0].set_title('State Trajectory')\n",
        "ax[0].legend(loc='upper right')\n",
        "ax[0].set_xlim(0.0, L_list[0])\n",
        "ax[0].set_ylim(0.0, L_list[1])\n",
        "ax[0].set_title('Original PDF')\n",
        "ax[0].contourf(grids_x, grids_y, pdf_gt.reshape(grids_x.shape), cmap='Reds')\n",
        "\n",
        "\n",
        "ax[1].plot(time, u_traj[:,0], label='u1')\n",
        "ax[1].plot(time, u_traj[:,1], label='u2')\n",
        "ax[1].legend()\n",
        "ax[1].set_xlim(0, 6)\n",
        "ax[1].set_ylim(-3, 3)\n",
        "ax[1].set_title('Optimal Control')\n",
        "\n",
        "ax[2].plot(np.arange(10), loss_list, label='loss')\n",
        "ax[2].set_title('Objective Value')\n",
        "ax[2].set_xlabel('Iteration')\n",
        "ax[2].set_ylabel('Objective')\n",
        "ax[2].set_xlim(0, 9)\n",
        "ax[2].set_ylim(0, 100)\n",
        "\n",
        "plt.savefig('hw5_1.png')\n",
        "plt.show()"
      ],
      "outputs": [],
      "execution_count": null
    }
  ],
  "metadata": {
    "anaconda-cloud": {},
    "kernelspec": {
      "display_name": "python",
      "language": "python",
      "name": "python3"
    }
  },
  "nbformat": 4,
  "nbformat_minor": 4
}